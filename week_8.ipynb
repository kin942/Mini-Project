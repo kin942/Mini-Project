{
 "cells": [
  {
   "cell_type": "markdown",
   "id": "a113134d",
   "metadata": {},
   "source": [
    "# Learning outcomes\n",
    "- Method to quantize / measure the image segmentation model: Intersection over Union (IOU).\n",
    "- Imgae gradients associate closely with edges. Edge detections\n",
    "    * Sobel\n",
    "    * Scharr\n",
    "    * Laplacian\n",
    "    * Canny\n",
    "- Contour detection (`cv.findContour()`)\n",
    "- Contour features (bounding box, perimeter, area, centroid) as well as properties (aspect ratio, circularity, solidity and extent)\n",
    "- Built-in method for blob detection\n",
    "    - Blob is a connected components in an image with similar brightness or intensity value."
   ]
  },
  {
   "cell_type": "markdown",
   "id": "0154cbd0",
   "metadata": {},
   "source": [
    "## Setup"
   ]
  },
  {
   "cell_type": "code",
   "execution_count": 1,
   "id": "51e4f3b7",
   "metadata": {},
   "outputs": [],
   "source": [
    "import sys\n",
    "assert sys.version_info >= (3, 7)\n",
    "\n",
    "import numpy as np\n",
    "import cv2 as cv\n",
    "from util_func import *"
   ]
  },
  {
   "cell_type": "code",
   "execution_count": 1,
   "id": "d849817c",
   "metadata": {},
   "outputs": [
    {
     "name": "stdout",
     "output_type": "stream",
     "text": [
      "Collecting requests\n",
      "  Downloading requests-2.31.0-py3-none-any.whl (62 kB)\n",
      "                                              0.0/62.6 kB ? eta -:--:--\n",
      "     ---------------------------------------- 62.6/62.6 kB 3.3 MB/s eta 0:00:00\n",
      "Collecting charset-normalizer<4,>=2 (from requests)\n",
      "  Downloading charset_normalizer-3.2.0-cp311-cp311-win_amd64.whl (96 kB)\n",
      "                                              0.0/96.6 kB ? eta -:--:--\n",
      "     ---------------------------------------- 96.6/96.6 kB 5.4 MB/s eta 0:00:00\n",
      "Requirement already satisfied: idna<4,>=2.5 in c:\\users\\user\\appdata\\local\\programs\\python\\python311\\lib\\site-packages (from requests) (3.4)\n",
      "Collecting urllib3<3,>=1.21.1 (from requests)\n",
      "  Downloading urllib3-2.0.4-py3-none-any.whl (123 kB)\n",
      "                                              0.0/123.9 kB ? eta -:--:--\n",
      "     ---------------------------------------- 123.9/123.9 kB ? eta 0:00:00\n",
      "Collecting certifi>=2017.4.17 (from requests)\n",
      "  Downloading certifi-2023.7.22-py3-none-any.whl (158 kB)\n",
      "                                              0.0/158.3 kB ? eta -:--:--\n",
      "     -------------------------------------- 158.3/158.3 kB 9.9 MB/s eta 0:00:00\n",
      "Installing collected packages: urllib3, charset-normalizer, certifi, requests\n",
      "Successfully installed certifi-2023.7.22 charset-normalizer-3.2.0 requests-2.31.0 urllib3-2.0.4\n"
     ]
    },
    {
     "name": "stderr",
     "output_type": "stream",
     "text": [
      "\n",
      "[notice] A new release of pip is available: 23.1.2 -> 23.2.1\n",
      "[notice] To update, run: C:\\Users\\user\\AppData\\Local\\Programs\\Python\\Python311\\python.exe -m pip install --upgrade pip\n"
     ]
    }
   ],
   "source": [
    "!pip install requests"
   ]
  },
  {
   "cell_type": "markdown",
   "id": "01ead5d3",
   "metadata": {},
   "source": [
    "## IOU\n",
    "Formula:\n",
    "\n",
    "$$IOU = \\frac{[A \\cap B]}{[A \\cup B]}$$"
   ]
  },
  {
   "cell_type": "code",
   "execution_count": 14,
   "id": "aefcab9d",
   "metadata": {},
   "outputs": [],
   "source": [
    "## function to compute IOU\n",
    "def computeIOU(boxA, boxB):\n",
    "    \"\"\"Args:\n",
    "    boxA: ground truth\n",
    "    boxB: prediction   They are lists of points\"\"\"\n",
    "    x_start = max(boxA[0], boxB[0])\n",
    "    y_start = max(boxA[1], boxB[1])\n",
    "    x_end = min(boxA[2], boxB[2])\n",
    "    y_end = min(boxA[3], boxB[3])\n",
    "    \n",
    "    # compute the intersection area\n",
    "    interArea = max(0, x_end - x_start + 1) * max(0, y_end - y_start + 1)\n",
    "    \n",
    "    # area of box A and box B\n",
    "    areaA = (boxA[2] - boxA[0] + 1) * (boxA[3] - boxA[1] + 1)\n",
    "    areaB = (boxB[2] - boxB[0] + 1) * (boxB[3] - boxB[1] + 1)\n",
    "    \n",
    "    return interArea / (areaA + areaB - interArea)"
   ]
  },
  {
   "cell_type": "code",
   "execution_count": 15,
   "id": "6849a11d",
   "metadata": {},
   "outputs": [],
   "source": [
    "img = cv.imread(\"images/lena.jfif\")"
   ]
  },
  {
   "cell_type": "code",
   "execution_count": 24,
   "id": "1fb43a4a",
   "metadata": {},
   "outputs": [],
   "source": [
    "boxes = cv.selectROIs(\"bounding box\", img, showCrosshair = False)\n",
    "\n",
    "cv.waitKey(0)\n",
    "cv.destroyAllWindows()"
   ]
  },
  {
   "cell_type": "code",
   "execution_count": 25,
   "id": "3c84d40d",
   "metadata": {},
   "outputs": [
    {
     "data": {
      "text/plain": [
       "array([[200,  27,  13,  18],\n",
       "       [201,  28,  12,  19]])"
      ]
     },
     "execution_count": 25,
     "metadata": {},
     "output_type": "execute_result"
    }
   ],
   "source": [
    "boxes"
   ]
  },
  {
   "cell_type": "code",
   "execution_count": 26,
   "id": "cfd6d9ab",
   "metadata": {},
   "outputs": [],
   "source": [
    "def convert_xywh_to_xyxy(box):\n",
    "    return [box[0], box[1], box[0] + box[2], box[1] + box[3]]"
   ]
  },
  {
   "cell_type": "code",
   "execution_count": 27,
   "id": "931ed067",
   "metadata": {},
   "outputs": [],
   "source": [
    "gt = convert_xywh_to_xyxy(boxes[0])\n",
    "pred = convert_xywh_to_xyxy(boxes[1])\n",
    "\n",
    "img_copy = img.copy()\n",
    "cv.rectangle(img_copy, (gt[0], gt[1]), (gt[2], gt[3]), (0, 0, 255), 2)\n",
    "cv.rectangle(img_copy, (pred[0], pred[1]), (pred[2], pred[3]), (0, 0, 255), 2)\n",
    "cv.putText(img_copy, f\"IOU: {computeIOU(gt, pred):.3f}\", (10, 25), cv.FONT_HERSHEY_PLAIN, 0.5, (0, 255, 0), 1)\n",
    "show_img(\"IOU\", img_copy)"
   ]
  },
  {
   "cell_type": "markdown",
   "id": "14a29cf2",
   "metadata": {},
   "source": [
    "## Image gradients\n",
    "kernel for $3 \\times 3$ Sobel operatorsL\n",
    "\n",
    "Vertical direction gradient (x-gradient)\n",
    "$$\\begin{bmatrix} -1 & 0 & 1 \\\\ -2 & 0 & 2 \\\\ -1 & 0 & 1 \\end{bmatrix}$$"
   ]
  },
  {
   "cell_type": "markdown",
   "id": "22f63fe0",
   "metadata": {},
   "source": [
    "### Pitfalls (bit depth)"
   ]
  },
  {
   "cell_type": "code",
   "execution_count": 31,
   "id": "c0ffa83f",
   "metadata": {},
   "outputs": [
    {
     "data": {
      "image/png": "[encoded data removed]",
      "text/plain": [
       "<Figure size 432x288 with 3 Axes>"
      ]
     },
     "metadata": {},
     "output_type": "display_data"
    }
   ],
   "source": [
    "img = cv.imread(\"images/wood_planck.jfif\")\n",
    "gray = cv.cvtColor(img, cv.COLOR_BGR2GRAY)\n",
    "\n",
    "th = cv.threshold(gray, 200, 255, cv.THRESH_BINARY_INV)[1]\n",
    "\n",
    "# apply sobel kernel (wrong way)\n",
    "sobely_8u = cv.Sobel(th, cv.CV_8U, 0, 1, ksize=3)\n",
    "\n",
    "# right way\n",
    "sobely_32f = cv.Sobel(th, cv.CV_32F, 0, 1, ksize=3)\n",
    "sobely = cv.convertScaleAbs(sobely_32f)\n",
    "\n",
    "plt.subplot(131), plt_img(th, \"threshold\")\n",
    "plt.subplot(132), plt_img(sobely_8u, \"cv.CV_8u\")\n",
    "plt.subplot(133), plt_img(sobely, \"cv.CV_32F\")\n",
    "plt.show()"
   ]
  },
  {
   "cell_type": "code",
   "execution_count": 38,
   "id": "75e3835f",
   "metadata": {},
   "outputs": [
    {
     "data": {
      "image/png": "[encoded data removed]",
      "text/plain": [
       "<Figure size 432x288 with 6 Axes>"
      ]
     },
     "metadata": {
      "needs_background": "light"
     },
     "output_type": "display_data"
    }
   ],
   "source": [
    "# combine both the x and y direction to form gradient and orientation map\n",
    "img = cv.imread(\"images/chessboard.png\", 0)\n",
    "\n",
    "#sobel x and sobel y\n",
    "sobelx = cv.Sobel(img, cv.CV_32F, 1, 0)\n",
    "sobelx_8u = cv.convertScaleAbs(sobelx)\n",
    "sobely = cv.Sobel(img, cv.CV_32F, 0, 1)\n",
    "sobely_8u = cv.convertScaleAbs(sobely)\n",
    "\n",
    "# combine x and y\n",
    "gradient = cv.magnitude(sobelx, sobely)\n",
    "direction = np.arctan2(sobelx, sobely) * (180 / np.pi) % 180\n",
    "\n",
    "plt.subplot(221), plt_img(sobelx_8u, \"vertical edge\")\n",
    "plt.subplot(222), plt_img(sobely_8u, \"horizontal edge\")\n",
    "plt.subplot(223), plt.imshow(gradient, cmap=\"jet\"), plt.title(\"gradient\"), plt.colorbar()\n",
    "plt.subplot(224), plt.imshow(direction, cmap=\"jet\"), plt.title(\"direction\"), plt.colorbar()\n",
    "\n",
    "plt.show()"
   ]
  },
  {
   "cell_type": "markdown",
   "id": "9a7c753a",
   "metadata": {},
   "source": [
    "## Laplacian (second order derivatives)"
   ]
  },
  {
   "cell_type": "code",
   "execution_count": 16,
   "id": "b2af59d5",
   "metadata": {},
   "outputs": [],
   "source": [
    "img = cv.imread(\"images/lena.jfif\", 0)\n",
    "\n",
    "#blur\n",
    "blur = cv.GaussianBlur(img, (5, 5), 0)\n",
    "LoG = cv.Laplacian(blur, cv.CV_16S)\n",
    "LoG = cv.convertScaleAbs(LoG)\n",
    "\n",
    "cv.imshow(\"grayscale\", img)\n",
    "show_img(\"LoG\", LoG)"
   ]
  },
  {
   "cell_type": "markdown",
   "id": "f97435f8",
   "metadata": {},
   "source": [
    "## Canny edge detector\n",
    "- lower the number of false positives, enhance the edge detection accuracy.\n",
    "- Flexible"
   ]
  },
  {
   "cell_type": "code",
   "execution_count": 39,
   "id": "a0ba8eea",
   "metadata": {},
   "outputs": [
    {
     "data": {
      "image/png": "[encoded data removed]",
      "text/plain": [
       "<Figure size 432x288 with 2 Axes>"
      ]
     },
     "metadata": {},
     "output_type": "display_data"
    }
   ],
   "source": [
    "img = cv.imread(\"images/chair.jpg\", 0)\n",
    "\n",
    "edge = cv.Canny(img, 100, 300)\n",
    "\n",
    "plt.subplot(121), plt_img(img, \"grayscale\")\n",
    "plt.subplot(122), plt_img(edge, \"canny\")\n",
    "plt.show()"
   ]
  },
  {
   "cell_type": "code",
   "execution_count": 47,
   "id": "e6e4aad0",
   "metadata": {},
   "outputs": [
    {
     "data": {
      "image/png": "[encoded data removed]",
      "text/plain": [
       "<Figure size 432x288 with 2 Axes>"
      ]
     },
     "metadata": {},
     "output_type": "display_data"
    }
   ],
   "source": [
    "img = cv.imread(\"images/chair.jpg\", 0)\n",
    "\n",
    "edge = cv.Canny(img, 30, 150)\n",
    "\n",
    "plt.subplot(121), plt_img(img, \"grayscale\")\n",
    "plt.subplot(122), plt_img(edge, \"canny\")\n",
    "plt.show()"
   ]
  },
  {
   "cell_type": "code",
   "execution_count": 50,
   "id": "ee8f6842",
   "metadata": {},
   "outputs": [],
   "source": [
    "#Exercise\n",
    "# Create a trackbar that control the hysterisis thresholds and display the resulting images from the changes in the thresholds.\n",
    "\n",
    "img = cv.imread(\"images/boat.jpg\")\n",
    "gray = cv.cvtColor(img, cv.COLOR_BGR2GRAY)\n",
    "\n",
    "wn = \"Canny edge\"\n",
    "trackbarName = \"low Threshold\"\n",
    "ratio = 2.5\n",
    "img_copy = img.copy()\n",
    "ksize = 3\n",
    "\n",
    "def cannyThresh(val):\n",
    "    edge = cv.Canny(gray, val, ratio * val, apertureSize = ksize)\n",
    "    # creae color edge\n",
    "    mask = edge != 0\n",
    "    res = img * (mask[:, :, None].astype(np.uint8))\n",
    "    cv.imshow(wn, res)\n",
    "    \n",
    "cv.namedWindow(wn)\n",
    "cv.createTrackbar(trackbarName, wn, 0, 100, cannyThresh)\n",
    "\n",
    "cv.waitKey(0)\n",
    "cv.destroyAllWindows()"
   ]
  },
  {
   "cell_type": "code",
   "execution_count": 34,
   "id": "b64c8fc9",
   "metadata": {},
   "outputs": [],
   "source": [
    "# automatic Canny\n",
    "def canny_auto(img, method, sigma=0.33):\n",
    "    \"\"\"Args:\n",
    "     img: grayscale\n",
    "     method: median, triangle and otsu\n",
    "     sigma=0.33 (default)\"\"\"\n",
    "    if method == \"median\":\n",
    "        Th = np.median(img)\n",
    "        \n",
    "    elif method == \"triangle\":\n",
    "        Th = cv.threshold(img, 0, 255, cv.THRESH_TRIANGLE)[0]\n",
    "        \n",
    "    elif method == \"otsu\":\n",
    "        Th = cv.threshold(img, 0, 255, cv.THRESH_OTSU)[0]\n",
    "        \n",
    "    else:\n",
    "        raise Exception(\"method specified not available!\")\n",
    "        \n",
    "    lowThresh = (1-sigma) * Th\n",
    "    highThresh = (1+sigma) * Th\n",
    "    \n",
    "    return cv.Canny(img, lowThresh, highThresh)\n",
    "     "
   ]
  },
  {
   "cell_type": "markdown",
   "id": "5dbf4d20",
   "metadata": {},
   "source": [
    "## Contours\n",
    "- Curve joining all the points along the object boundary."
   ]
  },
  {
   "cell_type": "code",
   "execution_count": 21,
   "id": "75b16bc7",
   "metadata": {},
   "outputs": [],
   "source": [
    "rect = np.zeros((256, 256), dtype = np.uint8)\n",
    "\n",
    "cv.rectangle(rect, (25, 25), (231, 231), 255, -1)\n",
    "\n",
    "contours, _ = cv.findContours(rect, cv.RETR_EXTERNAL, cv.CHAIN_APPROX_SIMPLE)"
   ]
  },
  {
   "cell_type": "code",
   "execution_count": 22,
   "id": "6aecad69",
   "metadata": {},
   "outputs": [
    {
     "data": {
      "text/plain": [
       "1"
      ]
     },
     "execution_count": 22,
     "metadata": {},
     "output_type": "execute_result"
    }
   ],
   "source": [
    "len(contours)"
   ]
  },
  {
   "cell_type": "code",
   "execution_count": 23,
   "id": "7d38c7b4",
   "metadata": {},
   "outputs": [
    {
     "data": {
      "text/plain": [
       "array([[[ 25,  25]],\n",
       "\n",
       "       [[ 25, 231]],\n",
       "\n",
       "       [[231, 231]],\n",
       "\n",
       "       [[231,  25]]], dtype=int32)"
      ]
     },
     "execution_count": 23,
     "metadata": {},
     "output_type": "execute_result"
    }
   ],
   "source": [
    "contours[0]"
   ]
  },
  {
   "cell_type": "code",
   "execution_count": 24,
   "id": "8ed468f0",
   "metadata": {},
   "outputs": [],
   "source": [
    "rect_bgr = cv.cvtColor(rect, cv.COLOR_GRAY2BGR)\n",
    "cv.drawContours(rect_bgr, contours, -1, (0, 255, 0), 2)\n",
    "\n",
    "show_img(\"contour\", rect_bgr)"
   ]
  },
  {
   "cell_type": "code",
   "execution_count": 38,
   "id": "8d479cf5",
   "metadata": {},
   "outputs": [],
   "source": [
    "img = cv.imread(\"images/monitor.jfif\")\n",
    "gray = cv.cvtColor(img, cv.COLOR_BGR2GRAY)\n",
    "\n",
    "# Binary Threshold\n",
    "th = cv.threshold(gray, 200, 255, cv.THRESH_BINARY_INV)[1]\n",
    "\n",
    "# find contours\n",
    "contours, _ = cv.findContours(th, cv.RETR_TREE, cv.CHAIN_APPROX_SIMPLE)\n",
    "\n",
    "# draw contours\n",
    "img_copy = img.copy()\n",
    "cv.drawContours(img_copy, contours, -1, (0, 255, 0), 1)\n",
    "\n",
    "show_img(\"contours\", img_copy)"
   ]
  },
  {
   "cell_type": "code",
   "execution_count": 83,
   "id": "437851bd",
   "metadata": {},
   "outputs": [
    {
     "data": {
      "text/plain": [
       "12"
      ]
     },
     "execution_count": 83,
     "metadata": {},
     "output_type": "execute_result"
    }
   ],
   "source": [
    "len(contours)"
   ]
  },
  {
   "cell_type": "code",
   "execution_count": 26,
   "id": "44f7de6e",
   "metadata": {},
   "outputs": [],
   "source": [
    "# one of the simple way: retain just the contour with largest number of points\n",
    "length = [len(c) for c in contours]\n",
    "cnt = contours[np.argmax(length)]\n",
    "\n",
    "img_copy = img.copy()\n",
    "cv.drawContours(img_copy, [cnt], -1, (0, 255, 0), 1)\n",
    "\n",
    "show_img(\"contours\", img_copy)"
   ]
  },
  {
   "cell_type": "markdown",
   "id": "3559a2fd",
   "metadata": {},
   "source": [
    "## Contour freatures\n",
    "- centroid\n",
    "- area\n",
    "- perimeter\n",
    "- bounding box"
   ]
  },
  {
   "cell_type": "code",
   "execution_count": 28,
   "id": "06403dcb",
   "metadata": {},
   "outputs": [
    {
     "name": "stdout",
     "output_type": "stream",
     "text": [
      "{'m00': 37113.5, 'm10': 3913689.5, 'm01': 3849569.1666666665, 'm20': 529272493.25, 'm11': 402572898.125, 'm02': 519454930.25, 'm30': 80631725758.65001, 'm21': 53484537787.45, 'm12': 53828827220.55, 'm03': 80175930424.35, 'mu20': 116566456.29821026, 'mu11': -3371527.140929699, 'mu02': 120161337.11136603, 'mu30': 234618732.78678894, 'mu21': -702775455.4171028, 'mu12': -249269762.75935364, 'mu03': 1368584318.4292145, 'nu20': 0.08462716040157804, 'nu11': -0.0024477261916909816, 'nu02': 0.08723704119285126, 'nu30': 0.0008841641534443626, 'nu21': -0.002648419664618219, 'nu12': -0.0009393767758931957, 'nu03': 0.005157530180767104}\n"
     ]
    }
   ],
   "source": [
    "M = cv.moments(cnt)\n",
    "print(M)"
   ]
  },
  {
   "cell_type": "code",
   "execution_count": 29,
   "id": "88b155ab",
   "metadata": {},
   "outputs": [
    {
     "name": "stdout",
     "output_type": "stream",
     "text": [
      "The centroid of contour: (105, 103)\n"
     ]
    }
   ],
   "source": [
    "cx = int(M['m10'] / M['m00'])\n",
    "cy = int(M['m01'] / M['m00'])\n",
    "\n",
    "print(f\"The centroid of contour: {cx, cy}\")"
   ]
  },
  {
   "cell_type": "code",
   "execution_count": 30,
   "id": "74d21502",
   "metadata": {},
   "outputs": [
    {
     "name": "stdout",
     "output_type": "stream",
     "text": [
      "The area of contour: 37113.5\n",
      "The perimeter of contour: 1056.777\n"
     ]
    }
   ],
   "source": [
    "area = cv.contourArea(cnt)\n",
    "peri = cv.arcLength(cnt, True)\n",
    "print(f\"The area of contour: {area}\")\n",
    "print(\"The perimeter of contour: {}\". format(round(peri, 3)))"
   ]
  },
  {
   "cell_type": "markdown",
   "id": "0a0f57ce",
   "metadata": {},
   "source": [
    "## contour properties\n",
    "$$aspect \\ ratio = \\frac{width}{height}$$\n",
    "\n",
    "$$circularity = \\frac{4 \\times \\pi \\times A}{Perimeter^2}$$"
   ]
  },
  {
   "cell_type": "code",
   "execution_count": 31,
   "id": "502d08f1",
   "metadata": {},
   "outputs": [],
   "source": [
    "img = cv.imread(\"images/remote-controller.webp\")\n",
    "\n",
    "show_img(\"aircond controller\", img)"
   ]
  },
  {
   "cell_type": "code",
   "execution_count": 35,
   "id": "0676afc2",
   "metadata": {},
   "outputs": [],
   "source": [
    "# resize -> grayscale -> bilateral -> Canny -> findContour -> Contour features\n",
    "# sort the contour with respect to area in descending order\n",
    "factor = 200 / img.shape[1]\n",
    "img = cv.resize(img, None, fx=factor, fy=factor)\n",
    "gray = cv.cvtColor(img, cv.COLOR_BGR2GRAY)\n",
    "\n",
    "blur = cv.bilateralFilter(gray, 7, 19, 13)\n",
    "edge = canny_auto(blur, method=\"triangle\")\n",
    "\n",
    "show_img(\"edges\", edge)"
   ]
  },
  {
   "cell_type": "code",
   "execution_count": 36,
   "id": "eba80c2b",
   "metadata": {},
   "outputs": [],
   "source": [
    "contours, _ = cv.findContours(edge, cv.RETR_TREE, cv.CHAIN_APPROX_SIMPLE)\n",
    "\n",
    "cnts = sorted(contours, key = cv.contourArea, reverse=True)[:5]\n",
    "screen = None\n",
    "img_copy = img.copy()\n",
    "\n",
    "#rectangular contour\n",
    "for c in cnts:\n",
    "    peri = cv.arcLength(c, True)\n",
    "    approx = cv.approxPolyDP(c, 0.1*peri, True)\n",
    "    \n",
    "    if len(approx) == 4:\n",
    "        screen = c\n",
    "        break\n",
    "\n",
    "cv.drawContours(img_copy, [screen], -1, (0, 255, 0), 2)\n",
    "show_img(\"contour\", img_copy)"
   ]
  },
  {
   "cell_type": "code",
   "execution_count": 100,
   "id": "755f25ae",
   "metadata": {},
   "outputs": [
    {
     "ename": "SystemExit",
     "evalue": "No webcam is detected!",
     "output_type": "error",
     "traceback": [
      "An exception has occurred, use %tb to see the full traceback.\n",
      "\u001b[1;31mSystemExit\u001b[0m\u001b[1;31m:\u001b[0m No webcam is detected!\n"
     ]
    },
    {
     "name": "stderr",
     "output_type": "stream",
     "text": [
      "C:\\Users\\fict\\AppData\\Local\\Programs\\Python\\Python310\\lib\\site-packages\\IPython\\core\\interactiveshell.py:3406: UserWarning: To exit: use 'exit', 'quit', or Ctrl-D.\n",
      "  warn(\"To exit: use 'exit', 'quit', or Ctrl-D.\", stacklevel=1)\n"
     ]
    }
   ],
   "source": [
    "# define the low and high threshold for red color in HSV color space\n",
    "redLow1 = (0, 90, 40)\n",
    "redHigh1 = (10, 255, 210)\n",
    "\n",
    "redLow2 = (170, 90, 40)\n",
    "redHigh2 = (179, 255, 210)\n",
    "\n",
    "cap = cv.VideoCapture(0)\n",
    "\n",
    "if not cap.isOpened():\n",
    "    sys.exit(\"No webcam is detected!\")\n",
    "\n",
    "kernel = np.ones((3,3), dtype=np.uint8)\n",
    "fixed_width = min_area = 500\n",
    "factor = fixed_width / cap.get(3)   #frame width\n",
    "\n",
    "while True:\n",
    "    ret, frame = cap.read()\n",
    "    \n",
    "    if not ret:\n",
    "        print(\"frame not received!\")\n",
    "        break\n",
    "    \n",
    "    # resize -> blur -> change to HSV -> color inRange -> morphology\n",
    "    resize = cv.resize(frame, None, fx=factor, fy=factor)\n",
    "    blur = cv.GaussiaBlur(resize, (5, 5), 0)\n",
    "    img_hsv = cv.cvtColor(blur, cv.COLOR_BGR2HSV)\n",
    "    \n",
    "    # color segmentation\n",
    "    mask1 = cv.inRange(img_hsv, redLow1, redHigh1)\n",
    "    mask2 = cv.inRange(img_hsv, redLow2, redHigh2)\n",
    "    \n",
    "    # morphological opening (remove noise)\n",
    "    mask = cv.morphologyEx(mask, cv.MORPH_OPEN, kernel, iterations = 2)\n",
    "    \n",
    "    # find contour\n",
    "    contours = cv.findContours(mask, cv.RETR_EXTERNAL, cv.CHAIN_APPROX_SIMPLE)\n",
    "    cnts = contours[0]\n",
    "    \n",
    "    # filter out the smaller object and draw bounding box\n",
    "    for c in cnts:\n",
    "        area = cv.contourArea(c)\n",
    "        if area > min_area:\n",
    "            bb = cv.boundingRect(c)\n",
    "            bbs.append(bb)\n",
    "    \n",
    "    for bb in bbs:\n",
    "        x, y, w, h = bb\n",
    "        cv.rectangle(resize, (x, y), (x+w, y+h), (0, 255, 0), 2)\n",
    "        \n",
    "    cv.imshow(\"red object\", resize)\n",
    "    k = cv.waitKey(1) & 0xFF\n",
    "    if k == 27:\n",
    "        break\n",
    "        \n",
    "cv.destroyAllWindows()\n",
    "cap.release()"
   ]
  },
  {
   "cell_type": "markdown",
   "id": "e7edaf12",
   "metadata": {},
   "source": [
    "# Weekly Exercise"
   ]
  },
  {
   "cell_type": "code",
   "execution_count": null,
   "id": "70732a07",
   "metadata": {},
   "outputs": [],
   "source": [
    "# Question 1\n",
    "# Apply Sobel edge detection\n",
    "# Load the image in grayscale\n",
    "img = cv.imread(\"images/pineapple.jfif\", 0)\n",
    "blur = cv.GaussianBlur(img, (5, 5), 0)\n",
    "\n",
    "# Sobel x and Sobel y\n",
    "sobelx = cv.Sobel(blur, cv.CV_32F, 1, 0)\n",
    "sobelx_8u = cv.convertScaleAbs(sobelx)\n",
    "sobely = cv.Sobel(blur, cv.CV_32F, 0, 1)\n",
    "sobely_8u = cv.convertScaleAbs(sobely)\n",
    "img_sobel = sobelx_8u + sobely_8u\n",
    "\n",
    "# Apply Laplacian edge detection\n",
    "LoG = cv.Laplacian(blur, cv.CV_16S)\n",
    "laplacian_edge = cv.convertScaleAbs(LoG)\n",
    "\n",
    "# Apply Prewitt edge detection\n",
    "kernelx = np.array([[1,1,1],[0,0,0],[-1,-1,-1]])\n",
    "kernely = np.array([[-1,0,1],[-1,0,1],[-1,0,1]])\n",
    "img_prewittx = cv.filter2D(blur, -1, kernelx)\n",
    "img_prewitty = cv.filter2D(blur, -1, kernely)\n",
    "\n",
    "# Apply Scharr edge detection\n",
    "scharr_X = cv.Scharr(blur, cv.CV_64F, 1, 0) \n",
    "scharr_X_abs = np.uint8(np.absolute(scharr_X)) \n",
    "scharr_Y = cv.Scharr(blur, cv.CV_64F, 0, 1) \n",
    "scharr_Y_abs = np.uint8(np.absolute(scharr_Y)) \n",
    "scharr_XY_combined = cv.bitwise_or(scharr_Y_abs,scharr_X_abs) \n",
    "\n",
    "# Apply Canny edge detection\n",
    "canny_edge = cv.Canny(blur, threshold1=100, threshold2=200)\n",
    "\n",
    "# Display the results\n",
    "cv.imshow('Sobel Edge Detection', img_sobel)\n",
    "cv.imshow('Laplacian Edge Detection', laplacian_edge)\n",
    "cv.imshow('Prewitt Edge Detection', img_prewittx + img_prewitty)\n",
    "cv.imshow('Scharr Edge Detection', scharr_XY_combined)\n",
    "cv.imshow('Canny Edge Detection', canny_edge)\n",
    "\n",
    "cv.waitKey(0)\n",
    "cv.destroyAllWindows()\n",
    "\n",
    "#Sobel: Sobel can detect the edge of the object and it also detect the cloud at behind\n",
    "#Laplacian: Laplacian detected the edge of the pineapple and the grass on the ground\n",
    "#Prewitt: Prewitt can detect the edge of the object with a smooth line\n",
    "#Scharr: Scharr detected the pineapple, grass, and cloud with a lot of white point\n",
    "#Canny: Canny have a better detection to the pineapple with a simple line."
   ]
  },
  {
   "cell_type": "code",
   "execution_count": 4,
   "id": "75fda4b9",
   "metadata": {},
   "outputs": [],
   "source": [
    "# Question 2\n",
    "# Load the image\n",
    "image = cv.imread('images/electronic.jfif')\n",
    "\n",
    "# Convert the image to grayscale\n",
    "gray = cv.cvtColor(image, cv.COLOR_BGR2GRAY)\n",
    "\n",
    "# Apply thresholding to segment white regions\n",
    "ret, thresh = cv.threshold(gray, 200, 255, cv.THRESH_BINARY)\n",
    "\n",
    "# Find contours in the binary image\n",
    "contours, _ = cv.findContours(thresh, cv.RETR_EXTERNAL, cv.CHAIN_APPROX_SIMPLE)\n",
    "\n",
    "# Filter out small contours\n",
    "min_contour_area = 500\n",
    "filtered_contours = [cnt for cnt in contours if cv.contourArea(cnt) > min_contour_area]\n",
    "\n",
    "# Draw bounding boxes around white objects\n",
    "for cnt in filtered_contours:\n",
    "    x, y, w, h = cv.boundingRect(cnt)\n",
    "    cv.rectangle(image, (x, y), (x + w, y + h), (0, 255, 0), 2)\n",
    "\n",
    "# Display the image with bounding boxes\n",
    "cv.imshow('White Objects with Bounding Boxes', image)\n",
    "cv.waitKey(0)\n",
    "cv.destroyAllWindows()"
   ]
  },
  {
   "cell_type": "code",
   "execution_count": 3,
   "id": "642a2341",
   "metadata": {},
   "outputs": [],
   "source": [
    "# Question 3\n",
    "# Load the image\n",
    "image = cv.imread('images/clock.jpg')\n",
    "\n",
    "# Convert the image to grayscale\n",
    "gray = cv.cvtColor(image, cv.COLOR_BGR2GRAY)\n",
    "\n",
    "# Apply Canny edge detection\n",
    "edges = cv.Canny(gray, threshold1=30, threshold2=70)\n",
    "\n",
    "# Find contours in the edge-detected image\n",
    "contours, _ = cv.findContours(edges, cv.RETR_EXTERNAL, cv.CHAIN_APPROX_SIMPLE)\n",
    "\n",
    "# Identify the clock contour based on area and aspect ratio\n",
    "clock_contour = None\n",
    "max_area = 0\n",
    "min_aspect_ratio = 0.7\n",
    "max_aspect_ratio = 1.3\n",
    "\n",
    "for contour in contours:\n",
    "    area = cv.contourArea(contour)\n",
    "    x, y, w, h = cv.boundingRect(contour)\n",
    "    aspect_ratio = w / float(h) if h != 0 else 0\n",
    "\n",
    "    if max_aspect_ratio > aspect_ratio > min_aspect_ratio and area > max_area:\n",
    "        max_area = area\n",
    "        clock_contour = contour\n",
    "\n",
    "if clock_contour is not None:\n",
    "    # Get the minimum enclosing circle around the clock contour\n",
    "    (x, y), radius = cv.minEnclosingCircle(clock_contour)\n",
    "    center = (int(x), int(y))\n",
    "    radius = int(radius)\n",
    "\n",
    "    # Draw the bounding circle\n",
    "    cv.circle(image, center, radius, (0, 255, 0), 2)\n",
    "\n",
    "# Display the image with the bounding circle\n",
    "cv.imshow('Clock with Bounding Circle', image)\n",
    "cv.waitKey(0)\n",
    "cv.destroyAllWindows()"
   ]
  },
  {
   "cell_type": "code",
   "execution_count": null,
   "id": "ce0148e4",
   "metadata": {},
   "outputs": [],
   "source": []
  }
 ],
 "metadata": {
  "kernelspec": {
   "display_name": "Python 3 (ipykernel)",
   "language": "python",
   "name": "python3"
  },
  "language_info": {
   "codemirror_mode": {
    "name": "ipython",
    "version": 3
   },
   "file_extension": ".py",
   "mimetype": "text/x-python",
   "name": "python",
   "nbconvert_exporter": "python",
   "pygments_lexer": "ipython3",
   "version": "3.11.4"
  }
 },
 "nbformat": 4,
 "nbformat_minor": 5
}
